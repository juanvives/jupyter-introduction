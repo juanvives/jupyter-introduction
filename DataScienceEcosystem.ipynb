{
  "metadata": {
    "kernelspec": {
      "name": "python",
      "display_name": "Python (Pyodide)",
      "language": "python"
    },
    "language_info": {
      "codemirror_mode": {
        "name": "python",
        "version": 3
      },
      "file_extension": ".py",
      "mimetype": "text/x-python",
      "name": "python",
      "nbconvert_exporter": "python",
      "pygments_lexer": "ipython3",
      "version": "3.8"
    }
  },
  "nbformat_minor": 5,
  "nbformat": 4,
  "cells": [
    {
      "id": "981c6b17-380a-4566-a0fb-e0e18a52ed1b",
      "cell_type": "markdown",
      "source": "# Data Science Tools and Ecosystem",
      "metadata": {}
    },
    {
      "id": "eaea4e81-243a-4005-bf26-9958a6d013ec",
      "cell_type": "markdown",
      "source": "In this notebook, Data Science Tools and Ecosystem are summarized.",
      "metadata": {}
    },
    {
      "id": "b5494063-9586-4de2-9b6b-9a1453cfaf38",
      "cell_type": "markdown",
      "source": "Some of the popular languages that Data Scientists use are: \n\n1.Python  \n2.R  \n3.SQL  \n4.Java  \n5.Julia",
      "metadata": {}
    },
    {
      "id": "48714c18-6025-4dd8-afae-7797506125bd",
      "cell_type": "markdown",
      "source": "Some of the commonly used libraries used by Data Scientists include:\n\n1.NumPy   \n2.Pandas  \n3.TensorFlow  \n4.Matplotlib   \n5.Scikit-learn   ",
      "metadata": {}
    },
    {
      "id": "b4a5b200-abf3-455b-85bb-09219183b612",
      "cell_type": "markdown",
      "source": "| Data Science Tools      |\n|-------------------------|\n| Jupyter Notebook        |\n| Visual Studio Code      |\n| RStudio                 |",
      "metadata": {}
    },
    {
      "id": "6a913b40-6873-49fa-babf-0079feefe9c8",
      "cell_type": "markdown",
      "source": "### Below are a few examples of evaluating arithmetic expressions in Python.",
      "metadata": {}
    },
    {
      "id": "0dbe2802-a87e-4210-b285-8205fcd94090",
      "cell_type": "code",
      "source": "# This is a simple arithmetic expression to multiply then add integers\nresult = (3 * 4) + 5\nresult",
      "metadata": {
        "trusted": true
      },
      "outputs": [
        {
          "execution_count": 9,
          "output_type": "execute_result",
          "data": {
            "text/plain": "17"
          },
          "metadata": {}
        }
      ],
      "execution_count": 9
    },
    {
      "id": "49fa0a72-5c3f-4815-b731-7a14694d8cb2",
      "cell_type": "code",
      "source": "# This will convert 200 minutes to hours by dividing by 60\nhours = 200 / 60\nhours",
      "metadata": {
        "trusted": true
      },
      "outputs": [
        {
          "execution_count": 10,
          "output_type": "execute_result",
          "data": {
            "text/plain": "3.3333333333333335"
          },
          "metadata": {}
        }
      ],
      "execution_count": 10
    },
    {
      "id": "82d947d2-b9ce-4528-aba3-d4fbcead0fe3",
      "cell_type": "markdown",
      "source": "**Objectives:**\n\n- List popular languages for Data Science.\n- Identify commonly used libraries for Data Science.\n- Introduce basic arithmetic expressions in Python.\n- Convert minutes to hours using Python.\n- Understand the tools used in Data Science.",
      "metadata": {}
    },
    {
      "id": "da1feca3-955e-428a-9836-a3be1c7af712",
      "cell_type": "markdown",
      "source": "## Author\n\nJuan Vives",
      "metadata": {}
    }
  ]
}